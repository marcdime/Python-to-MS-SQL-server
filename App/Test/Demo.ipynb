{
 "cells": [
  {
   "cell_type": "code",
   "execution_count": 1,
   "metadata": {},
   "outputs": [],
   "source": [
    "import pyodbc                    "
   ]
  },
  {
   "cell_type": "code",
   "execution_count": 2,
   "metadata": {
    "scrolled": true
   },
   "outputs": [
    {
     "name": "stdout",
     "output_type": "stream",
     "text": [
      "\n",
      " Do you want to use the trigger to update your output <yes/no> ?: \n",
      "no\n",
      "\n",
      " 100 first rows received from the server with query_for_AllSurvey : \n",
      "\n",
      "    UserId  SurveyId  ANS_Q1  ANS_Q2  ANS_Q3  ANS_Q4\n",
      "0        1         1    -1.0    -1.0     NaN     NaN\n",
      "1       42         1     3.0    -1.0     NaN     NaN\n",
      "2      296         1     5.0    -1.0     NaN     NaN\n",
      "3     1793         1    -1.0     6.0     NaN     NaN\n",
      "4     2411         1    -1.0     1.0     NaN     NaN\n",
      "5     2634         1     3.0    -1.0     NaN     NaN\n",
      "6     2957         1    -1.0     2.0     NaN     NaN\n",
      "7     3714         1     7.0    -1.0     NaN     NaN\n",
      "8     4682         1    -1.0     3.0     NaN     NaN\n",
      "9     5178         1    -1.0     8.0     NaN     NaN\n",
      "10    6131         1     9.0    -1.0     NaN     NaN\n",
      "11    7347         1     9.0    -1.0     NaN     NaN\n",
      "12    8245         1     1.0    -1.0     NaN     NaN\n",
      "13    8412         1    -1.0     3.0     NaN     NaN\n",
      "14    9272         1     5.0    -1.0     NaN     NaN\n",
      "15    9584         1     9.0    -1.0     NaN     NaN\n",
      "16   10291         1     5.0    -1.0     NaN     NaN\n",
      "17   10541         1     4.0    -1.0     NaN     NaN\n",
      "18   10976         1    -1.0     5.0     NaN     NaN\n",
      "19   12119         1     7.0    -1.0     NaN     NaN\n",
      "20   12447         1     6.0    -1.0     NaN     NaN\n",
      "21   13187         1     8.0    -1.0     NaN     NaN\n",
      "22   15248         1     0.0    -1.0     NaN     NaN\n",
      "23   15984         1     3.0    -1.0     NaN     NaN\n",
      "24   16434         1     0.0    -1.0     NaN     NaN\n",
      "25   17609         1    -1.0     6.0     NaN     NaN\n",
      "26   18176         1    -1.0     6.0     NaN     NaN\n",
      "27   18636         1    -1.0     1.0     NaN     NaN\n",
      "28   18730         1     0.0    -1.0     NaN     NaN\n",
      "29   19156         1    -1.0     3.0     NaN     NaN\n",
      "..     ...       ...     ...     ...     ...     ...\n",
      "70   44935         1     1.0    -1.0     NaN     NaN\n",
      "71   46080         1     1.0    -1.0     NaN     NaN\n",
      "72   46294         1    -1.0     9.0     NaN     NaN\n",
      "73   46518         1    -1.0     0.0     NaN     NaN\n",
      "74   46700         1    -1.0     7.0     NaN     NaN\n",
      "75   46831         1    -1.0     4.0     NaN     NaN\n",
      "76   47770         1     1.0    -1.0     NaN     NaN\n",
      "77   47868         1    -1.0     1.0     NaN     NaN\n",
      "78   49323         1    -1.0     7.0     NaN     NaN\n",
      "79   49327         1    -1.0     0.0     NaN     NaN\n",
      "80   49501         1    -1.0     7.0     NaN     NaN\n",
      "81   49868         1     0.0    -1.0     NaN     NaN\n",
      "82   49871         1    -1.0     6.0     NaN     NaN\n",
      "83   50238         1    -1.0     3.0     NaN     NaN\n",
      "84   50610         1     3.0    -1.0     NaN     NaN\n",
      "85   51840         1    -1.0     3.0     NaN     NaN\n",
      "86   52365         1    -1.0     6.0     NaN     NaN\n",
      "87   53834         1     3.0    -1.0     NaN     NaN\n",
      "88   53969         1     6.0    -1.0     NaN     NaN\n",
      "89   55266         1     0.0    -1.0     NaN     NaN\n",
      "90   56596         1     0.0    -1.0     NaN     NaN\n",
      "91   56749         1     5.0    -1.0     NaN     NaN\n",
      "92   57246         1    -1.0     4.0     NaN     NaN\n",
      "93   57596         1     4.0    -1.0     NaN     NaN\n",
      "94   58217         1    -1.0     1.0     NaN     NaN\n",
      "95   59348         1     2.0    -1.0     NaN     NaN\n",
      "96   61364         1     2.0    -1.0     NaN     NaN\n",
      "97   61390         1    -1.0     8.0     NaN     NaN\n",
      "98   61771         1    -1.0     5.0     NaN     NaN\n",
      "99   62069         1    -1.0     5.0     NaN     NaN\n",
      "\n",
      "[100 rows x 6 columns]\n"
     ]
    }
   ],
   "source": [
    "# No use of trigger to an update :\n",
    "from main import *\n",
    "if __name__ == '__main__':\n",
    "    main()"
   ]
  },
  {
   "cell_type": "code",
   "execution_count": 3,
   "metadata": {},
   "outputs": [
    {
     "name": "stdout",
     "output_type": "stream",
     "text": [
      "\n",
      " Do you want to use the trigger to update your output <yes/no> ?: \n",
      "yes\n",
      "\n",
      " Data is sucessfully extracted from SurveyData table.\n",
      " Here are first 5 rows requested (UserId order) from SurveyData table:\n",
      "   UserId  SurveyId  ANS_Q1  ANS_Q2  ANS_Q3  ANS_Q4\n",
      "0       1         1    -1.0    -1.0     NaN     NaN\n",
      "1       1         2     NaN    -1.0     5.0     NaN\n",
      "2       2         3     NaN     NaN    -1.0     4.0\n",
      "3      42         1     3.0    -1.0     NaN     NaN\n",
      "4     296         1     5.0    -1.0     NaN     NaN\n",
      " Your 'always-fresh' SurveyData.csv file is updated with these data.\n",
      " Your SurveyStructure.csv file is NOT updated. It is the same as SurveyStructure table in the server !\n",
      "\n",
      " Did you recently modify SurveyStructure table <y/n> ?: \n",
      " (hit <stop> if you want to stop the trigger)\n",
      "y\n",
      "\n",
      " Your last SurveyStructure.csv file is updated !\n",
      "\n",
      " Data is sucessfully extracted from SurveyData table.\n",
      " Here are first 5 rows requested (UserId order) from SurveyData table:\n",
      "   UserId  SurveyId ANS_Q1  ANS_Q2  ANS_Q3  ANS_Q4\n",
      "0       1         1   None    -1.0       2     NaN\n",
      "1       1         2   None    -1.0       5     NaN\n",
      "2       2         3   None     NaN      -1     4.0\n",
      "3      42         1   None    -1.0      -1     NaN\n",
      "4     296         1   None    -1.0      -1     NaN\n",
      " Your 'always-fresh' SurveyData.csv file is updated with these data.\n",
      "\n",
      " Did you recently modify SurveyStructure table <y/n> ?: \n",
      " (hit <stop> if you want to stop the trigger)\n",
      "stop\n"
     ]
    }
   ],
   "source": [
    "\n",
    "if __name__ == '__main__':\n",
    "    main()"
   ]
  },
  {
   "cell_type": "code",
   "execution_count": null,
   "metadata": {},
   "outputs": [],
   "source": []
  }
 ],
 "metadata": {
  "kernelspec": {
   "display_name": "Python 3",
   "language": "python",
   "name": "python3"
  },
  "language_info": {
   "codemirror_mode": {
    "name": "ipython",
    "version": 3
   },
   "file_extension": ".py",
   "mimetype": "text/x-python",
   "name": "python",
   "nbconvert_exporter": "python",
   "pygments_lexer": "ipython3",
   "version": "3.7.3"
  }
 },
 "nbformat": 4,
 "nbformat_minor": 2
}
